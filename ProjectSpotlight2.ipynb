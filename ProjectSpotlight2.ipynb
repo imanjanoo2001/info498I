{
 "cells": [
  {
   "cell_type": "code",
   "execution_count": 2,
   "metadata": {},
   "outputs": [
    {
     "name": "stderr",
     "output_type": "stream",
     "text": [
      "Status 201: JSONDecodeError in public_request (url=https://www.instagram.com/sophiakhan694/?__a=1&__d=dis) >>> \n",
      "Status 201: JSONDecodeError in public_request (url=https://www.instagram.com/sophiakhan694/?__a=1&__d=dis) >>> \n",
      "Status 201: JSONDecodeError in public_request (url=https://www.instagram.com/sophiakhan694/?__a=1&__d=dis) >>> \n"
     ]
    }
   ],
   "source": [
    "from instagrapi import Client\n",
    "\n",
    "cl = Client()\n",
    "cl.login('sophiakhan694', 'flowerpower45899')\n",
    "\n",
    "user_id = cl.user_id_from_username('sophiakhan694')\n",
    "medias = cl.user_medias(user_id, 20)"
   ]
  },
  {
   "cell_type": "code",
   "execution_count": 3,
   "metadata": {},
   "outputs": [
    {
     "name": "stdout",
     "output_type": "stream",
     "text": [
      "Comment Count: 107\n",
      "Like Count: 10419\n",
      "Caption Text: Always 🫂🇵🇸❤️\n",
      "•\n",
      "•\n",
      "Follow @deeni.ukht4u\n",
      "•\n",
      "•\n",
      "#freepalestine #istandwithpalestine #prayforpalestine #palestinewillbefree #repost #palestine #muslim #dua #trendingreels #trendingpost #postoftheday #dailypost #instagram #allahuakbar #alhamdulillah #instagramindia #indianmuslim #viralpage #explore #explorepage\n",
      "Accessibility Caption: None\n"
     ]
    }
   ],
   "source": [
    "media_info = cl.media_info(3354183380895514073).model_dump()\n",
    "\n",
    "# Extract specific information\n",
    "comment_count = media_info['comment_count']\n",
    "like_count = media_info['like_count']\n",
    "caption_text = media_info['caption_text']\n",
    "accessibility_caption = media_info['accessibility_caption']\n",
    "\n",
    "print(\"Comment Count:\", comment_count)\n",
    "print(\"Like Count:\", like_count)\n",
    "print(\"Caption Text:\", caption_text)\n",
    "print(\"Accessibility Caption:\", accessibility_caption)"
   ]
  },
  {
   "cell_type": "code",
   "execution_count": null,
   "metadata": {},
   "outputs": [],
   "source": [
    "import csv\n",
    "\n",
    "# Function to write data to the CSV file\n",
    "def write_data_to_csv(file_path, media_info):\n",
    "    with open(file_path, 'a', newline='', encoding='utf-8') as file:\n",
    "        csv_writer = csv.writer(file)\n",
    "        for media_id, info in media_info.items():\n",
    "            row = [media_id, info['comment_count'], info['like_count'], info['caption_text'], info['accessibility_caption']]\n",
    "            csv_writer.writerow(row)\n",
    "\n",
    "# Example usage with media_info for multiple media IDs\n",
    "media_ids = [3354183380895514073, 1234567890123456789]  # Example list of media IDs\n",
    "media_info = {}  # Dictionary to store media information\n",
    "\n",
    "# Retrieve media information for each media ID\n",
    "for media_id in media_ids:\n",
    "    media_info[media_id] = cl.media_info(media_id).model_dump()\n",
    "\n",
    "# Specify the file path where you want to save the CSV file\n",
    "file_path = '/Users/daphnigeorge/Downloads/media_info.csv'\n",
    "\n",
    "# Write the extracted information to the CSV file\n",
    "write_data_to_csv(file_path, media_info)\n",
    "\n",
    "# Print a message indicating successful writing\n",
    "print(\"Data has been written to the CSV file.\")\n"
   ]
  },
  {
   "cell_type": "code",
   "execution_count": 5,
   "metadata": {},
   "outputs": [],
   "source": []
  },
  {
   "cell_type": "code",
   "execution_count": null,
   "metadata": {},
   "outputs": [],
   "source": []
  }
 ],
 "metadata": {
  "kernelspec": {
   "display_name": "base",
   "language": "python",
   "name": "python3"
  },
  "language_info": {
   "codemirror_mode": {
    "name": "ipython",
    "version": 3
   },
   "file_extension": ".py",
   "mimetype": "text/x-python",
   "name": "python",
   "nbconvert_exporter": "python",
   "pygments_lexer": "ipython3",
   "version": "3.11.7"
  }
 },
 "nbformat": 4,
 "nbformat_minor": 2
}
