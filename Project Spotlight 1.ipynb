{
 "cells": [
  {
   "cell_type": "code",
   "execution_count": 2,
   "id": "205036f7-1787-4c91-8d2b-d13d09a912b1",
   "metadata": {},
   "outputs": [
    {
     "name": "stdout",
     "output_type": "stream",
     "text": [
      "Collecting git+https://****@github.com/ping/instagram_private_api.git@1.6.0\n",
      "  Cloning https://****@github.com/ping/instagram_private_api.git (to revision 1.6.0) to /private/var/folders/m6/x9bbhrgn5yjd83559jwyg96c0000gn/T/pip-req-build-d2inta9y\n",
      "  Running command git clone --filter=blob:none --quiet 'https://****@github.com/ping/instagram_private_api.git' /private/var/folders/m6/x9bbhrgn5yjd83559jwyg96c0000gn/T/pip-req-build-d2inta9y\n",
      "  Running command git checkout -q d1180fc00398dc58c9903b97be0c9148d69d21ec\n",
      "  Resolved https://****@github.com/ping/instagram_private_api.git to commit d1180fc00398dc58c9903b97be0c9148d69d21ec\n",
      "  Preparing metadata (setup.py) ... \u001b[?25ldone\n",
      "\u001b[?25hBuilding wheels for collected packages: instagram-private-api\n",
      "  Building wheel for instagram-private-api (setup.py) ... \u001b[?25ldone\n",
      "\u001b[?25h  Created wheel for instagram-private-api: filename=instagram_private_api-1.6.0-py3-none-any.whl size=76463 sha256=9f37c1a2a0c689b06bdf823edb15bdb8168296f24741cc1bd6990953fb80dcd3\n",
      "  Stored in directory: /private/var/folders/m6/x9bbhrgn5yjd83559jwyg96c0000gn/T/pip-ephem-wheel-cache-v88b9sx9/wheels/c7/37/e7/45375d0fe82c6ec1697b4d958a9d73d06db202be3ef7377f7c\n",
      "Successfully built instagram-private-api\n",
      "Installing collected packages: instagram-private-api\n",
      "Successfully installed instagram-private-api-1.6.0\n",
      "Note: you may need to restart the kernel to use updated packages.\n"
     ]
    }
   ],
   "source": [
    "pip install git+https://git@github.com/ping/instagram_private_api.git@1.6.0"
   ]
  },
  {
   "cell_type": "code",
   "execution_count": 5,
   "id": "4e6824ae-ae9c-4470-b0c7-d781f39cb5b8",
   "metadata": {},
   "outputs": [
    {
     "name": "stdout",
     "output_type": "stream",
     "text": [
      "Collecting git+https://****@github.com/ping/instagram_private_api.git\n",
      "  Cloning https://****@github.com/ping/instagram_private_api.git to /private/var/folders/m6/x9bbhrgn5yjd83559jwyg96c0000gn/T/pip-req-build-eazv8vb6\n",
      "  Running command git clone --filter=blob:none --quiet 'https://****@github.com/ping/instagram_private_api.git' /private/var/folders/m6/x9bbhrgn5yjd83559jwyg96c0000gn/T/pip-req-build-eazv8vb6\n",
      "  Resolved https://****@github.com/ping/instagram_private_api.git to commit 0fda0369ac02bc03d56f5f3f99bc9de2cc25ffaa\n",
      "  Preparing metadata (setup.py) ... \u001b[?25ldone\n",
      "\u001b[?25hBuilding wheels for collected packages: instagram-private-api\n",
      "  Building wheel for instagram-private-api (setup.py) ... \u001b[?25ldone\n",
      "\u001b[?25h  Created wheel for instagram-private-api: filename=instagram_private_api-1.6.0-py3-none-any.whl size=78950 sha256=47090374d325c8ab8014759d491255cb0f6c1d9deafd9336eaaa9ff5b5a2ffc3\n",
      "  Stored in directory: /private/var/folders/m6/x9bbhrgn5yjd83559jwyg96c0000gn/T/pip-ephem-wheel-cache-9aiq0bnv/wheels/a1/de/1e/3605ed0339df498e76c140a813fc5660951b0cb8373fee2408\n",
      "Successfully built instagram-private-api\n",
      "Installing collected packages: instagram-private-api\n",
      "  Attempting uninstall: instagram-private-api\n",
      "    Found existing installation: instagram-private-api 1.6.0\n",
      "    Uninstalling instagram-private-api-1.6.0:\n",
      "      Successfully uninstalled instagram-private-api-1.6.0\n",
      "Successfully installed instagram-private-api-1.6.0\n",
      "Note: you may need to restart the kernel to use updated packages.\n"
     ]
    }
   ],
   "source": [
    "pip install git+https://git@github.com/ping/instagram_private_api.git --upgrade --force-reinstall"
   ]
  },
  {
   "cell_type": "code",
   "execution_count": 13,
   "id": "e673c752-9b91-4562-9c63-7bd682edf624",
   "metadata": {},
   "outputs": [
    {
     "name": "stdout",
     "output_type": "stream",
     "text": [
      "Account creation failed. Status code: 400\n",
      "Response text: Bad request\n"
     ]
    }
   ],
   "source": [
    "import requests\n",
    "\n",
    "# URL for Instagram's registration endpoint\n",
    "register_url = \"https://www.instagram.com/accounts/web_create_ajax/\"\n",
    "\n",
    "# Define the payload (data) for the registration request\n",
    "data = {\n",
    "    'email': 'floralpixel@example.com',   # Your email address\n",
    "    'password': 'password123',         # Your desired password\n",
    "    'username': 'floralpixel',         # Desired username\n",
    "    'first_name': 'Emily',             # Your first name\n",
    "    'opt_into_one_tap': 'false'        # Opt out of one-tap login\n",
    "}\n",
    "\n",
    "# Send a POST request to the registration endpoint\n",
    "response = requests.post(register_url, data=data)\n",
    "\n",
    "# Check if the registration was successful\n",
    "if response.status_code == 200:\n",
    "    print(\"Account created successfully!\")\n",
    "    print(\"Your username:\", data['username'])\n",
    "else:\n",
    "    print(\"Account creation failed. Status code:\", response.status_code)\n",
    "    print(\"Response text:\", response.text)"
   ]
  },
  {
   "cell_type": "code",
   "execution_count": 6,
   "id": "2024d771-e6b7-4677-8a15-801bfc107a12",
   "metadata": {},
   "outputs": [
    {
     "ename": "ClientError",
     "evalue": "Unable to get rhx_gis from init request.",
     "output_type": "error",
     "traceback": [
      "\u001b[0;31m---------------------------------------------------------------------------\u001b[0m",
      "\u001b[0;31mClientError\u001b[0m                               Traceback (most recent call last)",
      "Cell \u001b[0;32mIn[6], line 4\u001b[0m\n\u001b[1;32m      1\u001b[0m \u001b[38;5;28;01mfrom\u001b[39;00m \u001b[38;5;21;01minstagram_web_api\u001b[39;00m \u001b[38;5;28;01mimport\u001b[39;00m Client, ClientCompatPatch, ClientError, ClientLoginError\n\u001b[1;32m      3\u001b[0m \u001b[38;5;66;03m# Without any authentication\u001b[39;00m\n\u001b[0;32m----> 4\u001b[0m web_api \u001b[38;5;241m=\u001b[39m Client(auto_patch\u001b[38;5;241m=\u001b[39m\u001b[38;5;28;01mTrue\u001b[39;00m, drop_incompat_keys\u001b[38;5;241m=\u001b[39m\u001b[38;5;28;01mFalse\u001b[39;00m)\n\u001b[1;32m      5\u001b[0m user_feed_info \u001b[38;5;241m=\u001b[39m web_api\u001b[38;5;241m.\u001b[39muser_feed(\u001b[38;5;124m'\u001b[39m\u001b[38;5;124m329452045\u001b[39m\u001b[38;5;124m'\u001b[39m, count\u001b[38;5;241m=\u001b[39m\u001b[38;5;241m10\u001b[39m)\n\u001b[1;32m      6\u001b[0m \u001b[38;5;28;01mfor\u001b[39;00m post \u001b[38;5;129;01min\u001b[39;00m user_feed_info:\n",
      "File \u001b[0;32m/opt/anaconda3/lib/python3.11/site-packages/instagram_web_api/client.py:137\u001b[0m, in \u001b[0;36mClient.__init__\u001b[0;34m(self, user_agent, **kwargs)\u001b[0m\n\u001b[1;32m    135\u001b[0m \u001b[38;5;28mself\u001b[39m\u001b[38;5;241m.\u001b[39mlogger \u001b[38;5;241m=\u001b[39m logger\n\u001b[1;32m    136\u001b[0m \u001b[38;5;28;01mif\u001b[39;00m \u001b[38;5;129;01mnot\u001b[39;00m \u001b[38;5;28mself\u001b[39m\u001b[38;5;241m.\u001b[39mcsrftoken:\n\u001b[0;32m--> 137\u001b[0m     \u001b[38;5;28mself\u001b[39m\u001b[38;5;241m.\u001b[39minit()\n\u001b[1;32m    138\u001b[0m \u001b[38;5;28;01mif\u001b[39;00m \u001b[38;5;129;01mnot\u001b[39;00m \u001b[38;5;28mself\u001b[39m\u001b[38;5;241m.\u001b[39mis_authenticated \u001b[38;5;129;01mand\u001b[39;00m \u001b[38;5;28mself\u001b[39m\u001b[38;5;241m.\u001b[39mauthenticate \u001b[38;5;129;01mand\u001b[39;00m \u001b[38;5;28mself\u001b[39m\u001b[38;5;241m.\u001b[39musername \u001b[38;5;129;01mand\u001b[39;00m \u001b[38;5;28mself\u001b[39m\u001b[38;5;241m.\u001b[39mpassword:\n\u001b[1;32m    139\u001b[0m     \u001b[38;5;28mself\u001b[39m\u001b[38;5;241m.\u001b[39mlogin()\n",
      "File \u001b[0;32m/opt/anaconda3/lib/python3.11/site-packages/instagram_web_api/client.py:372\u001b[0m, in \u001b[0;36mClient.init\u001b[0;34m(self)\u001b[0m\n\u001b[1;32m    370\u001b[0m     \u001b[38;5;28;01mraise\u001b[39;00m ClientError(\u001b[38;5;124m'\u001b[39m\u001b[38;5;124mUnable to get csrf from init request.\u001b[39m\u001b[38;5;124m'\u001b[39m)\n\u001b[1;32m    371\u001b[0m \u001b[38;5;28;01mif\u001b[39;00m \u001b[38;5;129;01mnot\u001b[39;00m \u001b[38;5;28mself\u001b[39m\u001b[38;5;241m.\u001b[39mrhx_gis:\n\u001b[0;32m--> 372\u001b[0m     \u001b[38;5;28;01mraise\u001b[39;00m ClientError(\u001b[38;5;124m'\u001b[39m\u001b[38;5;124mUnable to get rhx_gis from init request.\u001b[39m\u001b[38;5;124m'\u001b[39m)\n\u001b[1;32m    373\u001b[0m \u001b[38;5;66;03m# required to avoid 403 when doing unauthenticated requests\u001b[39;00m\n\u001b[1;32m    374\u001b[0m \u001b[38;5;28mself\u001b[39m\u001b[38;5;241m.\u001b[39mcookie_jar\u001b[38;5;241m.\u001b[39mset_cookie(\n\u001b[1;32m    375\u001b[0m     compat_cookiejar\u001b[38;5;241m.\u001b[39mCookie(\n\u001b[1;32m    376\u001b[0m         \u001b[38;5;241m0\u001b[39m, \u001b[38;5;124m'\u001b[39m\u001b[38;5;124mig_pr\u001b[39m\u001b[38;5;124m'\u001b[39m, \u001b[38;5;124m'\u001b[39m\u001b[38;5;124m1\u001b[39m\u001b[38;5;124m'\u001b[39m, \u001b[38;5;28;01mNone\u001b[39;00m, \u001b[38;5;28;01mFalse\u001b[39;00m,\n\u001b[1;32m    377\u001b[0m         \u001b[38;5;124m'\u001b[39m\u001b[38;5;124mwww.instagram.com\u001b[39m\u001b[38;5;124m'\u001b[39m, \u001b[38;5;28;01mFalse\u001b[39;00m, \u001b[38;5;28;01mNone\u001b[39;00m, \u001b[38;5;124m'\u001b[39m\u001b[38;5;124m/\u001b[39m\u001b[38;5;124m'\u001b[39m,\n\u001b[1;32m    378\u001b[0m         \u001b[38;5;28;01mFalse\u001b[39;00m, \u001b[38;5;28;01mFalse\u001b[39;00m, \u001b[38;5;28;01mNone\u001b[39;00m, \u001b[38;5;28;01mTrue\u001b[39;00m, \u001b[38;5;28;01mNone\u001b[39;00m, \u001b[38;5;28;01mNone\u001b[39;00m, {})\n\u001b[1;32m    379\u001b[0m )\n",
      "\u001b[0;31mClientError\u001b[0m: Unable to get rhx_gis from init request."
     ]
    }
   ],
   "source": [
    "from instagram_web_api import Client, ClientCompatPatch, ClientError, ClientLoginError\n",
    "\n",
    "# Without any authentication\n",
    "web_api = Client(auto_patch=True, drop_incompat_keys=False)\n",
    "user_feed_info = web_api.user_feed('329452045', count=10)\n",
    "for post in user_feed_info:\n",
    "    print('%s from %s' % (post['link'], post['user']['username']))\n",
    "\n",
    "# Some endpoints, e.g. user_following are available only after authentication\n",
    "authed_web_api = Client(\n",
    "    auto_patch=True, authenticate=True,\n",
    "    username='YOUR_USERNAME', password='YOUR_PASSWORD')\n",
    "\n",
    "following = authed_web_api.user_following('123456')\n",
    "for user in following:\n",
    "    print(user['username'])\n",
    "\n",
    "# Note: You can and should cache the cookie even for non-authenticated sessions.\n",
    "# This saves the overhead of a single http request when the Client is initialised."
   ]
  }
 ],
 "metadata": {
  "kernelspec": {
   "display_name": "Python 3 (ipykernel)",
   "language": "python",
   "name": "python3"
  },
  "language_info": {
   "codemirror_mode": {
    "name": "ipython",
    "version": 3
   },
   "file_extension": ".py",
   "mimetype": "text/x-python",
   "name": "python",
   "nbconvert_exporter": "python",
   "pygments_lexer": "ipython3",
   "version": "3.11.7"
  }
 },
 "nbformat": 4,
 "nbformat_minor": 5
}
