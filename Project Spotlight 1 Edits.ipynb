{
 "cells": [
  {
   "cell_type": "code",
   "execution_count": null,
   "id": "205036f7-1787-4c91-8d2b-d13d09a912b1",
   "metadata": {},
   "outputs": [],
   "source": [
    "pip install git+https://git@github.com/ping/instagram_private_api.git@1.6.0"
   ]
  },
  {
   "cell_type": "code",
   "execution_count": null,
   "id": "4e6824ae-ae9c-4470-b0c7-d781f39cb5b8",
   "metadata": {},
   "outputs": [],
   "source": [
    "pip install git+https://git@github.com/ping/instagram_private_api.git --upgrade --force-reinstall"
   ]
  },
  {
   "cell_type": "code",
   "execution_count": 9,
   "id": "e673c752-9b91-4562-9c63-7bd682edf624",
   "metadata": {},
   "outputs": [
    {
     "name": "stdout",
     "output_type": "stream",
     "text": [
      "Account creation failed. Status code: 400\n",
      "Response text: Bad request\n"
     ]
    }
   ],
   "source": [
    "import requests\n",
    "import random\n",
    "\n",
    "# Function to generate a random number for the username\n",
    "def generate_random_number():\n",
    "    return str(random.randint(1000, 9999))\n",
    "\n",
    "# Define a prefix for the username\n",
    "username_prefix = 'floralpixel'\n",
    "\n",
    "# Generate a unique username\n",
    "username = username_prefix + generate_random_number()\n",
    "\n",
    "# URL for Instagram's registration endpoint\n",
    "register_url = \"https://www.instagram.com/accounts/web_create_ajax/\"\n",
    "\n",
    "# Define the payload (data) for the registration request\n",
    "data = {\n",
    "    'email': 'floralpixel@gmail.com',   # Your email address\n",
    "    'password': 'password123',            # Your desired password\n",
    "    'username': username,                 # Unique username\n",
    "    'first_name': 'Emily',                # Your first name\n",
    "    'opt_into_one_tap': 'false'           # Opt out of one-tap login\n",
    "}\n",
    "\n",
    "# Send a POST request to the registration endpoint\n",
    "response = requests.post(register_url, data=data)\n",
    "\n",
    "# Check if the registration was successful\n",
    "if response.status_code == 200:\n",
    "    print(\"Account created successfully!\")\n",
    "    print(\"Your username:\", username)\n",
    "else:\n",
    "    print(\"Account creation failed. Status code:\", response.status_code)\n",
    "    print(\"Response text:\", response.text)\n"
   ]
  },
  {
   "cell_type": "code",
   "execution_count": null,
   "id": "1690c04a",
   "metadata": {},
   "outputs": [],
   "source": [
    "pip install selenium\n"
   ]
  },
  {
   "cell_type": "code",
   "execution_count": null,
   "id": "09249b30",
   "metadata": {},
   "outputs": [],
   "source": [
    "from selenium import webdriver\n",
    "from selenium.webdriver.common.by import By\n",
    "from selenium.webdriver.support.ui import WebDriverWait\n",
    "from selenium.webdriver.support import expected_conditions as EC\n",
    "\n",
    "# Start Chrome WebDriver\n",
    "driver = webdriver.Chrome()\n",
    "\n",
    "# Open Instagram's registration page\n",
    "driver.get(\"https://www.instagram.com/accounts/emailsignup/\")\n",
    "\n",
    "# Wait for the email field to be ready\n",
    "email_field = WebDriverWait(driver, 10).until(EC.element_to_be_clickable((By.NAME, \"emailOrPhone\")))\n",
    "email_field.send_keys('hasovav910@lewenbo.com')\n",
    "\n",
    "# Find and fill in the full name field\n",
    "full_name_field = driver.find_element(By.NAME, \"fullName\")\n",
    "full_name_field.send_keys('Jenny Grace')\n",
    "\n",
    "# Find and fill in the username field\n",
    "username_field = driver.find_element(By.NAME, \"username\")\n",
    "username_field.send_keys('jennygrace781')\n",
    "\n",
    "# Find and fill in the password field\n",
    "password_field = driver.find_element(By.NAME, \"password\")\n",
    "password_field.send_keys('password123')\n",
    "\n",
    "# Click the sign up button\n",
    "sign_up_button = driver.find_element(By.XPATH, \"//button[@type='submit']\")\n",
    "sign_up_button.click()\n",
    "\n",
    "# Wait for account creation process\n",
    "WebDriverWait(driver, 10).until(EC.url_contains(\"accounts/confirm-email/\"))\n",
    "\n",
    "# Check if account creation was successful\n",
    "if \"accounts/confirm-email/\" in driver.current_url:\n",
    "    print(\"Account created successfully!\")\n",
    "else:\n",
    "    print(\"Account creation failed.\")\n",
    "\n",
    "# Close the browser\n",
    "driver.quit()\n"
   ]
  },
  {
   "cell_type": "code",
   "execution_count": null,
   "id": "2024d771-e6b7-4677-8a15-801bfc107a12",
   "metadata": {},
   "outputs": [],
   "source": [
    "from instagram_web_api import Client, ClientCompatPatch, ClientError, ClientLoginError\n",
    "\n",
    "# Without any authentication\n",
    "web_api = Client(auto_patch=True, drop_incompat_keys=False)\n",
    "user_feed_info = web_api.user_feed('329452045', count=10)\n",
    "for post in user_feed_info:\n",
    "    print('%s from %s' % (post['link'], post['user']['username']))\n",
    "\n",
    "# Some endpoints, e.g. user_following are available only after authentication\n",
    "authed_web_api = Client(\n",
    "    auto_patch=True, authenticate=True,\n",
    "    username='YOUR_USERNAME', password='YOUR_PASSWORD')\n",
    "\n",
    "following = authed_web_api.user_following('123456')\n",
    "for user in following:\n",
    "    print(user['username'])\n",
    "\n",
    "# Note: You can and should cache the cookie even for non-authenticated sessions.\n",
    "# This saves the overhead of a single http request when the Client is initialised."
   ]
  }
 ],
 "metadata": {
  "kernelspec": {
   "display_name": "Python 3 (ipykernel)",
   "language": "python",
   "name": "python3"
  },
  "language_info": {
   "codemirror_mode": {
    "name": "ipython",
    "version": 3
   },
   "file_extension": ".py",
   "mimetype": "text/x-python",
   "name": "python",
   "nbconvert_exporter": "python",
   "pygments_lexer": "ipython3",
   "version": "3.8.8"
  }
 },
 "nbformat": 4,
 "nbformat_minor": 5
}
