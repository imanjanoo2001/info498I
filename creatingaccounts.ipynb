{
 "cells": [
  {
   "cell_type": "code",
   "execution_count": null,
   "metadata": {},
   "outputs": [],
   "source": []
  },
  {
   "cell_type": "code",
   "execution_count": 1,
   "metadata": {},
   "outputs": [
    {
     "name": "stdout",
     "output_type": "stream",
     "text": [
      "Requirement already satisfied: selenium in /opt/anaconda3/lib/python3.11/site-packages (4.20.0)\n",
      "Requirement already satisfied: urllib3<3,>=1.26 in /opt/anaconda3/lib/python3.11/site-packages (from urllib3[socks]<3,>=1.26->selenium) (2.0.7)\n",
      "Requirement already satisfied: trio~=0.17 in /opt/anaconda3/lib/python3.11/site-packages (from selenium) (0.25.0)\n",
      "Requirement already satisfied: trio-websocket~=0.9 in /opt/anaconda3/lib/python3.11/site-packages (from selenium) (0.11.1)\n",
      "Requirement already satisfied: certifi>=2021.10.8 in /opt/anaconda3/lib/python3.11/site-packages (from selenium) (2024.2.2)\n",
      "Requirement already satisfied: typing_extensions>=4.9.0 in /opt/anaconda3/lib/python3.11/site-packages (from selenium) (4.9.0)\n",
      "Requirement already satisfied: attrs>=23.2.0 in /opt/anaconda3/lib/python3.11/site-packages (from trio~=0.17->selenium) (23.2.0)\n",
      "Requirement already satisfied: sortedcontainers in /opt/anaconda3/lib/python3.11/site-packages (from trio~=0.17->selenium) (2.4.0)\n",
      "Requirement already satisfied: idna in /opt/anaconda3/lib/python3.11/site-packages (from trio~=0.17->selenium) (3.4)\n",
      "Requirement already satisfied: outcome in /opt/anaconda3/lib/python3.11/site-packages (from trio~=0.17->selenium) (1.3.0.post0)\n",
      "Requirement already satisfied: sniffio>=1.3.0 in /opt/anaconda3/lib/python3.11/site-packages (from trio~=0.17->selenium) (1.3.0)\n",
      "Requirement already satisfied: wsproto>=0.14 in /opt/anaconda3/lib/python3.11/site-packages (from trio-websocket~=0.9->selenium) (1.2.0)\n",
      "Requirement already satisfied: pysocks!=1.5.7,<2.0,>=1.5.6 in /opt/anaconda3/lib/python3.11/site-packages (from urllib3[socks]<3,>=1.26->selenium) (1.7.1)\n",
      "Requirement already satisfied: h11<1,>=0.9.0 in /opt/anaconda3/lib/python3.11/site-packages (from wsproto>=0.14->trio-websocket~=0.9->selenium) (0.14.0)\n",
      "Note: you may need to restart the kernel to use updated packages.\n"
     ]
    }
   ],
   "source": [
    "pip install selenium\n"
   ]
  },
  {
   "cell_type": "code",
   "execution_count": 8,
   "metadata": {},
   "outputs": [
    {
     "ename": "TimeoutException",
     "evalue": "Message: \n",
     "output_type": "error",
     "traceback": [
      "\u001b[0;31m---------------------------------------------------------------------------\u001b[0m",
      "\u001b[0;31mTimeoutException\u001b[0m                          Traceback (most recent call last)",
      "Cell \u001b[0;32mIn[8], line 33\u001b[0m\n\u001b[1;32m     30\u001b[0m sign_up_button\u001b[38;5;241m.\u001b[39mclick()\n\u001b[1;32m     32\u001b[0m \u001b[38;5;66;03m# Wait for account creation process\u001b[39;00m\n\u001b[0;32m---> 33\u001b[0m WebDriverWait(driver, \u001b[38;5;241m10\u001b[39m)\u001b[38;5;241m.\u001b[39muntil(EC\u001b[38;5;241m.\u001b[39murl_contains(\u001b[38;5;124m\"\u001b[39m\u001b[38;5;124maccounts/confirm-email/\u001b[39m\u001b[38;5;124m\"\u001b[39m))\n\u001b[1;32m     35\u001b[0m \u001b[38;5;66;03m# Prompt the user to enter the confirmation code\u001b[39;00m\n\u001b[1;32m     36\u001b[0m confirmation_code \u001b[38;5;241m=\u001b[39m \u001b[38;5;28minput\u001b[39m(\u001b[38;5;124m\"\u001b[39m\u001b[38;5;124mPlease enter the confirmation code: \u001b[39m\u001b[38;5;124m\"\u001b[39m)\n",
      "File \u001b[0;32m/opt/anaconda3/lib/python3.11/site-packages/selenium/webdriver/support/wait.py:105\u001b[0m, in \u001b[0;36mWebDriverWait.until\u001b[0;34m(self, method, message)\u001b[0m\n\u001b[1;32m    103\u001b[0m     \u001b[38;5;28;01mif\u001b[39;00m time\u001b[38;5;241m.\u001b[39mmonotonic() \u001b[38;5;241m>\u001b[39m end_time:\n\u001b[1;32m    104\u001b[0m         \u001b[38;5;28;01mbreak\u001b[39;00m\n\u001b[0;32m--> 105\u001b[0m \u001b[38;5;28;01mraise\u001b[39;00m TimeoutException(message, screen, stacktrace)\n",
      "\u001b[0;31mTimeoutException\u001b[0m: Message: \n"
     ]
    }
   ],
   "source": [
    "from selenium import webdriver\n",
    "from selenium.webdriver.common.by import By\n",
    "from selenium.webdriver.support.ui import WebDriverWait\n",
    "from selenium.webdriver.support import expected_conditions as EC\n",
    "\n",
    "# Start Chrome WebDriver\n",
    "driver = webdriver.Chrome()\n",
    "\n",
    "# Open Instagram's registration page\n",
    "driver.get(\"https://www.instagram.com/accounts/emailsignup/\")\n",
    "\n",
    "# Wait for the email field to be ready\n",
    "email_field = WebDriverWait(driver, 10).until(EC.element_to_be_clickable((By.NAME, \"emailOrPhone\")))\n",
    "email_field.send_keys('khansophie23@gmail.com')\n",
    "\n",
    "# Find and fill in the full name field\n",
    "full_name_field = driver.find_element(By.NAME, \"fullName\")\n",
    "full_name_field.send_keys('Sophie Khan')\n",
    "\n",
    "# Find and fill in the username field\n",
    "username_field = driver.find_element(By.NAME, \"username\")\n",
    "username_field.send_keys('sophiekhan980346')\n",
    "\n",
    "# Find and fill in the password field\n",
    "password_field = driver.find_element(By.NAME, \"password\")\n",
    "password_field.send_keys('flowerpower4589')\n",
    "\n",
    "# Click the sign up button\n",
    "sign_up_button = driver.find_element(By.XPATH, \"//button[@type='submit']\")\n",
    "sign_up_button.click()\n",
    "\n",
    "# Wait for account creation process\n",
    "WebDriverWait(driver, 10).until(EC.url_contains(\"accounts/confirm-email/\"))\n",
    "\n",
    "# Prompt the user to enter the confirmation code\n",
    "confirmation_code = input(\"Please enter the confirmation code: \")\n",
    "\n",
    "# Find and fill in the confirmation code field\n",
    "code_field = driver.find_element(By.NAME, \"confirmationCode\")\n",
    "code_field.send_keys(confirmation_code)\n",
    "\n",
    "# Click the submit button\n",
    "submit_button = driver.find_element(By.XPATH, \"//button[@type='submit']\")\n",
    "submit_button.click()\n",
    "\n",
    "# Wait for the birthday page to load\n",
    "WebDriverWait(driver, 10).until(EC.presence_of_element_located((By.XPATH, \"//select[@id='Birthday']\")))\n",
    "\n",
    "# Fill in the birthday\n",
    "#WebDriverWait(driver, 10).until(EC.presence_of_element_located((By.NAME, \"Birthday\")))\n",
    "\n",
    "month_dropdown = driver.find_element(By.ID, \"Month:\")\n",
    "month_dropdown.send_keys(\"March\")  # Change this to your desired month\n",
    "\n",
    "day_dropdown = driver.find_element(By.ID, \"Day:\")\n",
    "day_dropdown.send_keys(\"5\")  # Change this to your desired day\n",
    "\n",
    "year_dropdown = driver.find_element(By.ID, \"Year:\")\n",
    "year_dropdown.send_keys(\"1995\")  # Change this to your desired year\n",
    "\n",
    "# # Wait for the birthday page to load\n",
    "# WebDriverWait(driver, 10).until(EC.presence_of_element_located((By.NAME, \"Birthday\")))\n",
    "\n",
    "# # Fill in the birthday\n",
    "\n",
    "\n",
    "# month_field = driver.find_element(By.NAME, \"birthday_month\")\n",
    "# month_field.send_keys('July')  # Change this to your desired month\n",
    "\n",
    "# day_field = driver.find_element(By.NAME, \"birthday_day\")\n",
    "# day_field.send_keys('15')  # Change this to your desired day\n",
    "\n",
    "\n",
    "# year_field = driver.find_element(By.NAME, \"birthday_year\")\n",
    "# year_field.send_keys('1995')  # Change this to your desired year\n",
    "\n",
    "# Click the next button\n",
    "next_button = driver.find_element(By.XPATH, \"//button[@type='submit']\")\n",
    "next_button.click()\n",
    "\n",
    "# Wait for the account to be created\n",
    "WebDriverWait(driver, 10).until(EC.url_contains(\"instagram.com/\"))\n",
    "\n",
    "# Check if account creation was successful\n",
    "if \"instagram.com/\" in driver.current_url:\n",
    "    print(\"Account created successfully!\")\n",
    "else:\n",
    "    print(\"Account creation failed.\")\n",
    "\n",
    "# Close the browser\n",
    "driver.quit()\n"
   ]
  }
 ],
 "metadata": {
  "kernelspec": {
   "display_name": "base",
   "language": "python",
   "name": "python3"
  },
  "language_info": {
   "codemirror_mode": {
    "name": "ipython",
    "version": 3
   },
   "file_extension": ".py",
   "mimetype": "text/x-python",
   "name": "python",
   "nbconvert_exporter": "python",
   "pygments_lexer": "ipython3",
   "version": "3.11.7"
  }
 },
 "nbformat": 4,
 "nbformat_minor": 2
}
